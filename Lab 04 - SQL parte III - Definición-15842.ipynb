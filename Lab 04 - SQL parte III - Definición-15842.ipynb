{
 "cells": [
  {
   "cell_type": "markdown",
   "metadata": {},
   "source": [
    "## Laboratorio 04 - SQL parte 3\n",
    "\n",
    "### Davis Alvarez  - 15842\n",
    "\n",
    "#### Bienvenida\n",
    "\n",
    "Bienvenido a su tercer laboratorio de Bases de datos.\n",
    "\n",
    "El objetivo de este laboratorio es que usted profundice y practique sobre los conceptos de queries anidados (_subqueries_) y la aplicación del concepto de agregación y de las funciones de agregación. Usted deberá conocer la sintaxis de un `SELECT` introduciendo los conceptos de agregación (`GROUP BY`) y filtros sobre datos agregados (`HAVING`).\n",
    "\n",
    "Para este laboratorio utilizaremos la base de datos **flights-lab3.db** utilizada durante el laboratorio 3.\n",
    "\n",
    "Recuerde que puede encontrar más información acerca de los campos en: https://www.transtats.bts.gov/DL_SelectFields.asp?Table_ID=236"
   ]
  },
  {
   "cell_type": "code",
   "execution_count": 1,
   "metadata": {},
   "outputs": [],
   "source": [
    "%load_ext sql"
   ]
  },
  {
   "cell_type": "code",
   "execution_count": 2,
   "metadata": {},
   "outputs": [
    {
     "data": {
      "text/plain": [
       "'Connected: @flights-lab3.db'"
      ]
     },
     "execution_count": 2,
     "metadata": {},
     "output_type": "execute_result"
    }
   ],
   "source": [
    "sql sqlite:///flights-lab3.db"
   ]
  },
  {
   "cell_type": "markdown",
   "metadata": {},
   "source": [
    "### Ejercicio 1: Consultas SQL (100 puntos)"
   ]
  },
  {
   "cell_type": "markdown",
   "metadata": {},
   "source": [
    "Prepare un query que responda a cada una de las siguientes preguntas:"
   ]
  },
  {
   "cell_type": "code",
   "execution_count": 5,
   "metadata": {},
   "outputs": [
    {
     "name": "stdout",
     "output_type": "stream",
     "text": [
      " * sqlite:///flights-lab3.db\n",
      "Done.\n"
     ]
    },
    {
     "data": {
      "text/html": [
       "<table>\n",
       "    <tr>\n",
       "        <th>cid</th>\n",
       "        <th>name</th>\n",
       "        <th>type</th>\n",
       "        <th>notnull</th>\n",
       "        <th>dflt_value</th>\n",
       "        <th>pk</th>\n",
       "    </tr>\n",
       "    <tr>\n",
       "        <td>0</td>\n",
       "        <td>Year</td>\n",
       "        <td>int</td>\n",
       "        <td>0</td>\n",
       "        <td>None</td>\n",
       "        <td>0</td>\n",
       "    </tr>\n",
       "    <tr>\n",
       "        <td>1</td>\n",
       "        <td>Month</td>\n",
       "        <td>int</td>\n",
       "        <td>0</td>\n",
       "        <td>None</td>\n",
       "        <td>0</td>\n",
       "    </tr>\n",
       "    <tr>\n",
       "        <td>2</td>\n",
       "        <td>DayofMonth</td>\n",
       "        <td>int</td>\n",
       "        <td>0</td>\n",
       "        <td>None</td>\n",
       "        <td>0</td>\n",
       "    </tr>\n",
       "    <tr>\n",
       "        <td>3</td>\n",
       "        <td>DayOfWeek</td>\n",
       "        <td>int</td>\n",
       "        <td>0</td>\n",
       "        <td>None</td>\n",
       "        <td>0</td>\n",
       "    </tr>\n",
       "    <tr>\n",
       "        <td>4</td>\n",
       "        <td>DepTime</td>\n",
       "        <td>int</td>\n",
       "        <td>0</td>\n",
       "        <td>None</td>\n",
       "        <td>0</td>\n",
       "    </tr>\n",
       "    <tr>\n",
       "        <td>5</td>\n",
       "        <td>CRSDepTime</td>\n",
       "        <td>int</td>\n",
       "        <td>0</td>\n",
       "        <td>None</td>\n",
       "        <td>0</td>\n",
       "    </tr>\n",
       "    <tr>\n",
       "        <td>6</td>\n",
       "        <td>ArrTime</td>\n",
       "        <td>int</td>\n",
       "        <td>0</td>\n",
       "        <td>None</td>\n",
       "        <td>0</td>\n",
       "    </tr>\n",
       "    <tr>\n",
       "        <td>7</td>\n",
       "        <td>CRSArrTime</td>\n",
       "        <td>int</td>\n",
       "        <td>0</td>\n",
       "        <td>None</td>\n",
       "        <td>0</td>\n",
       "    </tr>\n",
       "    <tr>\n",
       "        <td>8</td>\n",
       "        <td>UniqueCarrier</td>\n",
       "        <td>varchar(5)</td>\n",
       "        <td>0</td>\n",
       "        <td>None</td>\n",
       "        <td>0</td>\n",
       "    </tr>\n",
       "    <tr>\n",
       "        <td>9</td>\n",
       "        <td>FlightNum</td>\n",
       "        <td>int</td>\n",
       "        <td>0</td>\n",
       "        <td>None</td>\n",
       "        <td>0</td>\n",
       "    </tr>\n",
       "    <tr>\n",
       "        <td>10</td>\n",
       "        <td>TailNum</td>\n",
       "        <td>varchar(8)</td>\n",
       "        <td>0</td>\n",
       "        <td>None</td>\n",
       "        <td>0</td>\n",
       "    </tr>\n",
       "    <tr>\n",
       "        <td>11</td>\n",
       "        <td>ActualElapsedTime</td>\n",
       "        <td>int</td>\n",
       "        <td>0</td>\n",
       "        <td>None</td>\n",
       "        <td>0</td>\n",
       "    </tr>\n",
       "    <tr>\n",
       "        <td>12</td>\n",
       "        <td>CRSElapsedTime</td>\n",
       "        <td>int</td>\n",
       "        <td>0</td>\n",
       "        <td>None</td>\n",
       "        <td>0</td>\n",
       "    </tr>\n",
       "    <tr>\n",
       "        <td>13</td>\n",
       "        <td>AirTime</td>\n",
       "        <td>int</td>\n",
       "        <td>0</td>\n",
       "        <td>None</td>\n",
       "        <td>0</td>\n",
       "    </tr>\n",
       "    <tr>\n",
       "        <td>14</td>\n",
       "        <td>ArrDelay</td>\n",
       "        <td>int</td>\n",
       "        <td>0</td>\n",
       "        <td>None</td>\n",
       "        <td>0</td>\n",
       "    </tr>\n",
       "    <tr>\n",
       "        <td>15</td>\n",
       "        <td>DepDelay</td>\n",
       "        <td>int</td>\n",
       "        <td>0</td>\n",
       "        <td>None</td>\n",
       "        <td>0</td>\n",
       "    </tr>\n",
       "    <tr>\n",
       "        <td>16</td>\n",
       "        <td>Origin</td>\n",
       "        <td>varchar(3)</td>\n",
       "        <td>0</td>\n",
       "        <td>None</td>\n",
       "        <td>0</td>\n",
       "    </tr>\n",
       "    <tr>\n",
       "        <td>17</td>\n",
       "        <td>Dest</td>\n",
       "        <td>varchar(3)</td>\n",
       "        <td>0</td>\n",
       "        <td>None</td>\n",
       "        <td>0</td>\n",
       "    </tr>\n",
       "    <tr>\n",
       "        <td>18</td>\n",
       "        <td>Distance</td>\n",
       "        <td>int</td>\n",
       "        <td>0</td>\n",
       "        <td>None</td>\n",
       "        <td>0</td>\n",
       "    </tr>\n",
       "    <tr>\n",
       "        <td>19</td>\n",
       "        <td>TaxiIn</td>\n",
       "        <td>int</td>\n",
       "        <td>0</td>\n",
       "        <td>None</td>\n",
       "        <td>0</td>\n",
       "    </tr>\n",
       "    <tr>\n",
       "        <td>20</td>\n",
       "        <td>TaxiOut</td>\n",
       "        <td>int</td>\n",
       "        <td>0</td>\n",
       "        <td>None</td>\n",
       "        <td>0</td>\n",
       "    </tr>\n",
       "    <tr>\n",
       "        <td>21</td>\n",
       "        <td>Cancelled</td>\n",
       "        <td>int</td>\n",
       "        <td>0</td>\n",
       "        <td>None</td>\n",
       "        <td>0</td>\n",
       "    </tr>\n",
       "    <tr>\n",
       "        <td>22</td>\n",
       "        <td>CancellationCode</td>\n",
       "        <td>varchar(1)</td>\n",
       "        <td>0</td>\n",
       "        <td>None</td>\n",
       "        <td>0</td>\n",
       "    </tr>\n",
       "    <tr>\n",
       "        <td>23</td>\n",
       "        <td>Diverted</td>\n",
       "        <td>varchar(1)</td>\n",
       "        <td>0</td>\n",
       "        <td>None</td>\n",
       "        <td>0</td>\n",
       "    </tr>\n",
       "    <tr>\n",
       "        <td>24</td>\n",
       "        <td>CarrierDelay</td>\n",
       "        <td>int</td>\n",
       "        <td>0</td>\n",
       "        <td>None</td>\n",
       "        <td>0</td>\n",
       "    </tr>\n",
       "    <tr>\n",
       "        <td>25</td>\n",
       "        <td>WeatherDelay</td>\n",
       "        <td>int</td>\n",
       "        <td>0</td>\n",
       "        <td>None</td>\n",
       "        <td>0</td>\n",
       "    </tr>\n",
       "    <tr>\n",
       "        <td>26</td>\n",
       "        <td>NASDelay</td>\n",
       "        <td>int</td>\n",
       "        <td>0</td>\n",
       "        <td>None</td>\n",
       "        <td>0</td>\n",
       "    </tr>\n",
       "    <tr>\n",
       "        <td>27</td>\n",
       "        <td>SecurityDelay</td>\n",
       "        <td>int</td>\n",
       "        <td>0</td>\n",
       "        <td>None</td>\n",
       "        <td>0</td>\n",
       "    </tr>\n",
       "    <tr>\n",
       "        <td>28</td>\n",
       "        <td>LateAircraftDelay</td>\n",
       "        <td>int</td>\n",
       "        <td>0</td>\n",
       "        <td>None</td>\n",
       "        <td>0</td>\n",
       "    </tr>\n",
       "</table>"
      ],
      "text/plain": [
       "[(0, 'Year', 'int', 0, None, 0),\n",
       " (1, 'Month', 'int', 0, None, 0),\n",
       " (2, 'DayofMonth', 'int', 0, None, 0),\n",
       " (3, 'DayOfWeek', 'int', 0, None, 0),\n",
       " (4, 'DepTime', 'int', 0, None, 0),\n",
       " (5, 'CRSDepTime', 'int', 0, None, 0),\n",
       " (6, 'ArrTime', 'int', 0, None, 0),\n",
       " (7, 'CRSArrTime', 'int', 0, None, 0),\n",
       " (8, 'UniqueCarrier', 'varchar(5)', 0, None, 0),\n",
       " (9, 'FlightNum', 'int', 0, None, 0),\n",
       " (10, 'TailNum', 'varchar(8)', 0, None, 0),\n",
       " (11, 'ActualElapsedTime', 'int', 0, None, 0),\n",
       " (12, 'CRSElapsedTime', 'int', 0, None, 0),\n",
       " (13, 'AirTime', 'int', 0, None, 0),\n",
       " (14, 'ArrDelay', 'int', 0, None, 0),\n",
       " (15, 'DepDelay', 'int', 0, None, 0),\n",
       " (16, 'Origin', 'varchar(3)', 0, None, 0),\n",
       " (17, 'Dest', 'varchar(3)', 0, None, 0),\n",
       " (18, 'Distance', 'int', 0, None, 0),\n",
       " (19, 'TaxiIn', 'int', 0, None, 0),\n",
       " (20, 'TaxiOut', 'int', 0, None, 0),\n",
       " (21, 'Cancelled', 'int', 0, None, 0),\n",
       " (22, 'CancellationCode', 'varchar(1)', 0, None, 0),\n",
       " (23, 'Diverted', 'varchar(1)', 0, None, 0),\n",
       " (24, 'CarrierDelay', 'int', 0, None, 0),\n",
       " (25, 'WeatherDelay', 'int', 0, None, 0),\n",
       " (26, 'NASDelay', 'int', 0, None, 0),\n",
       " (27, 'SecurityDelay', 'int', 0, None, 0),\n",
       " (28, 'LateAircraftDelay', 'int', 0, None, 0)]"
      ]
     },
     "execution_count": 5,
     "metadata": {},
     "output_type": "execute_result"
    }
   ],
   "source": [
    "%sql PRAGMA table_info(ontime);"
   ]
  },
  {
   "cell_type": "code",
   "execution_count": 6,
   "metadata": {
    "scrolled": true
   },
   "outputs": [
    {
     "name": "stdout",
     "output_type": "stream",
     "text": [
      " * sqlite:///flights-lab3.db\n",
      "Done.\n"
     ]
    },
    {
     "data": {
      "text/html": [
       "<table>\n",
       "    <tr>\n",
       "        <th>cid</th>\n",
       "        <th>name</th>\n",
       "        <th>type</th>\n",
       "        <th>notnull</th>\n",
       "        <th>dflt_value</th>\n",
       "        <th>pk</th>\n",
       "    </tr>\n",
       "    <tr>\n",
       "        <td>0</td>\n",
       "        <td>iata</td>\n",
       "        <td>varchar(4)</td>\n",
       "        <td>0</td>\n",
       "        <td>None</td>\n",
       "        <td>0</td>\n",
       "    </tr>\n",
       "    <tr>\n",
       "        <td>1</td>\n",
       "        <td>airport</td>\n",
       "        <td>varchar(100)</td>\n",
       "        <td>0</td>\n",
       "        <td>None</td>\n",
       "        <td>0</td>\n",
       "    </tr>\n",
       "    <tr>\n",
       "        <td>2</td>\n",
       "        <td>city</td>\n",
       "        <td>varchar(100)</td>\n",
       "        <td>0</td>\n",
       "        <td>None</td>\n",
       "        <td>0</td>\n",
       "    </tr>\n",
       "    <tr>\n",
       "        <td>3</td>\n",
       "        <td>state</td>\n",
       "        <td>varchar(4)</td>\n",
       "        <td>0</td>\n",
       "        <td>None</td>\n",
       "        <td>0</td>\n",
       "    </tr>\n",
       "    <tr>\n",
       "        <td>4</td>\n",
       "        <td>country</td>\n",
       "        <td>varchar(4)</td>\n",
       "        <td>0</td>\n",
       "        <td>None</td>\n",
       "        <td>0</td>\n",
       "    </tr>\n",
       "    <tr>\n",
       "        <td>5</td>\n",
       "        <td>lat</td>\n",
       "        <td>double</td>\n",
       "        <td>0</td>\n",
       "        <td>None</td>\n",
       "        <td>0</td>\n",
       "    </tr>\n",
       "    <tr>\n",
       "        <td>6</td>\n",
       "        <td>long</td>\n",
       "        <td>double</td>\n",
       "        <td>0</td>\n",
       "        <td>None</td>\n",
       "        <td>0</td>\n",
       "    </tr>\n",
       "</table>"
      ],
      "text/plain": [
       "[(0, 'iata', 'varchar(4)', 0, None, 0),\n",
       " (1, 'airport', 'varchar(100)', 0, None, 0),\n",
       " (2, 'city', 'varchar(100)', 0, None, 0),\n",
       " (3, 'state', 'varchar(4)', 0, None, 0),\n",
       " (4, 'country', 'varchar(4)', 0, None, 0),\n",
       " (5, 'lat', 'double', 0, None, 0),\n",
       " (6, 'long', 'double', 0, None, 0)]"
      ]
     },
     "execution_count": 6,
     "metadata": {},
     "output_type": "execute_result"
    }
   ],
   "source": [
    "%sql PRAGMA table_info(airports);"
   ]
  },
  {
   "cell_type": "markdown",
   "metadata": {},
   "source": [
    "#### Pregunta 1: ¿Qué aerolineas vuelan de California a Nueva York?\n",
    "\n",
    "Su respuesta debe mostrar el nombre de la aerolinea.\n",
    "\n",
    "De su respuesta utilizando subqueries."
   ]
  },
  {
   "cell_type": "code",
   "execution_count": 13,
   "metadata": {},
   "outputs": [
    {
     "name": "stdout",
     "output_type": "stream",
     "text": [
      " * sqlite:///flights-lab3.db\n",
      "Done.\n"
     ]
    },
    {
     "data": {
      "text/html": [
       "<table>\n",
       "    <tr>\n",
       "        <th>UniqueCarrier</th>\n",
       "        <th>AirlineName</th>\n",
       "    </tr>\n",
       "    <tr>\n",
       "        <td>AA</td>\n",
       "        <td>American Airlines Inc.</td>\n",
       "    </tr>\n",
       "    <tr>\n",
       "        <td>B6</td>\n",
       "        <td>JetBlue Airways</td>\n",
       "    </tr>\n",
       "    <tr>\n",
       "        <td>DL</td>\n",
       "        <td>Delta Air Lines Inc.</td>\n",
       "    </tr>\n",
       "    <tr>\n",
       "        <td>UA</td>\n",
       "        <td>United Air Lines Inc.</td>\n",
       "    </tr>\n",
       "</table>"
      ],
      "text/plain": [
       "[('AA', 'American Airlines Inc.'),\n",
       " ('B6', 'JetBlue Airways'),\n",
       " ('DL', 'Delta Air Lines Inc.'),\n",
       " ('UA', 'United Air Lines Inc.')]"
      ]
     },
     "execution_count": 13,
     "metadata": {},
     "output_type": "execute_result"
    }
   ],
   "source": [
    "%%sql SELECT L.UniqueCarrier, airlines.AirlineName\n",
    "        FROM(\n",
    "            SELECT DISTINCT O.UniqueCarrier, ORIGEN.state, DESTINO.state\n",
    "            FROM ontime O\n",
    "                INNER JOIN airports ORIGEN ON O.origin=ORIGEN.iata\n",
    "                INNER JOIN airports DESTINO ON O.dest=DESTINO.iata\n",
    "            WHERE ORIGEN.state='CA' AND DESTINO.state='NY'\n",
    "        ) L\n",
    "            INNER JOIN airlines ON airlines.AirlineCode = L.UniqueCarrier"
   ]
  },
  {
   "cell_type": "markdown",
   "metadata": {},
   "source": [
    "_Hint:_ Deben ser cuatro aerolineas"
   ]
  },
  {
   "cell_type": "markdown",
   "metadata": {},
   "source": [
    "#### Pregunta 2: ¿Qué aerolineas vuelan de California a Nueva York y también de California a Nuevo México?\n",
    "\n",
    "Su respuesta debe mostrar el nombre de las aerolineas\n",
    "\n",
    "De su respuesta en términos de subqueries."
   ]
  },
  {
   "cell_type": "code",
   "execution_count": 20,
   "metadata": {},
   "outputs": [
    {
     "name": "stdout",
     "output_type": "stream",
     "text": [
      " * sqlite:///flights-lab3.db\n",
      "Done.\n"
     ]
    },
    {
     "data": {
      "text/html": [
       "<table>\n",
       "    <tr>\n",
       "        <th>UniqueCarrier</th>\n",
       "        <th>AirlineName</th>\n",
       "    </tr>\n",
       "    <tr>\n",
       "        <td>UA</td>\n",
       "        <td>United Air Lines Inc.</td>\n",
       "    </tr>\n",
       "</table>"
      ],
      "text/plain": [
       "[('UA', 'United Air Lines Inc.')]"
      ]
     },
     "execution_count": 20,
     "metadata": {},
     "output_type": "execute_result"
    }
   ],
   "source": [
    "%%sql SELECT L.UniqueCarrier, airlines.AirlineName\n",
    "        FROM(\n",
    "            SELECT DISTINCT O.UniqueCarrier, ORIGEN.state, DESTINO.state\n",
    "            FROM ontime O\n",
    "                INNER JOIN airports ORIGEN ON O.origin=ORIGEN.iata\n",
    "                INNER JOIN airports DESTINO ON O.dest=DESTINO.iata\n",
    "            WHERE ORIGEN.state='CA' AND DESTINO.state='NY'\n",
    "        ) L\n",
    "            INNER JOIN airlines ON airlines.AirlineCode = L.UniqueCarrier\n",
    "        WHERE UniqueCarrier IN (\n",
    "                                    SELECT DISTINCT O.UniqueCarrier\n",
    "                                        FROM ontime O\n",
    "                                            INNER JOIN airports ORIGEN ON O.origin=ORIGEN.iata\n",
    "                                            INNER JOIN airports DESTINO ON O.dest=DESTINO.iata\n",
    "                                        WHERE ORIGEN.state='CA' AND DESTINO.state='NM'\n",
    "                                    )"
   ]
  },
  {
   "cell_type": "markdown",
   "metadata": {},
   "source": [
    "#### Pregunta 3. ¡Quiero maximizar mi millas! (15 puntos)\n",
    "\n",
    "Suponga que en un futuro no muy lejano le gustaría visitar tanto Portland (PDX) como Eugene (EUG), saliendo desde SFO. Con el objetivo de maximizar mis millas de viajero frecuente, me gustaría utilizar la misma aerolínea para ambos vuelos.\n",
    "\n",
    "Escriba un query que muestre los nombres de las aerolíneas que realizaron tanto vuelos SFO -> PDX como vuelos SFO -> EUG.\n",
    "Asegúrese de mostrar el nombre de las aerolíneas sin duplicados."
   ]
  },
  {
   "cell_type": "code",
   "execution_count": 24,
   "metadata": {},
   "outputs": [
    {
     "name": "stdout",
     "output_type": "stream",
     "text": [
      " * sqlite:///flights-lab3.db\n",
      "Done.\n"
     ]
    },
    {
     "data": {
      "text/html": [
       "<table>\n",
       "    <tr>\n",
       "        <th>UniqueCarrier</th>\n",
       "        <th>AirlineName</th>\n",
       "    </tr>\n",
       "    <tr>\n",
       "        <td>OO</td>\n",
       "        <td>SkyWest Airlines Inc.</td>\n",
       "    </tr>\n",
       "    <tr>\n",
       "        <td>UA</td>\n",
       "        <td>United Air Lines Inc.</td>\n",
       "    </tr>\n",
       "</table>"
      ],
      "text/plain": [
       "[('OO', 'SkyWest Airlines Inc.'), ('UA', 'United Air Lines Inc.')]"
      ]
     },
     "execution_count": 24,
     "metadata": {},
     "output_type": "execute_result"
    }
   ],
   "source": [
    "%%sql SELECT L.UniqueCarrier, airlines.AirlineName\n",
    "        FROM(\n",
    "            SELECT DISTINCT O.UniqueCarrier, ORIGEN.state, DESTINO.state\n",
    "            FROM ontime O\n",
    "                INNER JOIN airports ORIGEN ON O.origin=ORIGEN.iata\n",
    "                INNER JOIN airports DESTINO ON O.dest=DESTINO.iata\n",
    "            WHERE ORIGEN.iata='SFO' AND DESTINO.iata='EUG'\n",
    "        ) L\n",
    "            INNER JOIN airlines ON airlines.AirlineCode = L.UniqueCarrier\n",
    "        WHERE UniqueCarrier IN (\n",
    "                                    SELECT DISTINCT O.UniqueCarrier\n",
    "                                        FROM ontime O\n",
    "                                            INNER JOIN airports ORIGEN ON O.origin=ORIGEN.iata\n",
    "                                            INNER JOIN airports DESTINO ON O.dest=DESTINO.iata\n",
    "                                        WHERE ORIGEN.iata='SFO' AND DESTINO.iata='PDX'\n",
    "                                    )"
   ]
  },
  {
   "cell_type": "markdown",
   "metadata": {},
   "source": [
    "_Respuesta:_\n",
    "```\n",
    "SkyWest Airlines Inc.\n",
    "United Air Lines Inc.\n",
    "```"
   ]
  },
  {
   "cell_type": "markdown",
   "metadata": {},
   "source": [
    "#### Pregunta 4: ¿Existen aerolineas que hagan únicamente vuelos internos?\n",
    "\n",
    "Un vuelo interno es aquel cuyo aeropuerto origen y aeropuerto destino se encuentran en el mismo estado.\n",
    "\n",
    "De su respuesta en términos de `EXCEPT`."
   ]
  },
  {
   "cell_type": "code",
   "execution_count": null,
   "metadata": {},
   "outputs": [],
   "source": []
  },
  {
   "cell_type": "markdown",
   "metadata": {},
   "source": [
    "_Respuesta:_ En la base de datos no hay ninguna aerolinea que haga únicamente vuelos internos."
   ]
  },
  {
   "cell_type": "markdown",
   "metadata": {},
   "source": [
    "#### Pregunta 5: ¿Qué proporción de aerolineas se retrasan en llegar un promedio 10 minutos o más con respecto al total de aerolíneas que han operado vuelos? (20 puntos)\n",
    "\n",
    "En el laboratorio 3 usted desarrolló un query para mostrar qué aerolineas se retrasan en llegar un promedio 10 minutos o más.\n",
    "\n",
    "Escriba ahora un query que retorne la proporción de las aerolíneas que se retrasan en promedio 10 minutos o más, con respecto a la cantidad de aerolíneas que operaron vuelos.\n",
    "\n",
    "Recuerde no quemar (_hardcode_) la cantidad de aerolíneas disponibles, sino obtener la cantidad a partir de un query.\n",
    "\n",
    "**Nota**: la función `COUNT(*)` en SQLite retorna valores de tipo integer, por lo que deberá investigar e incluir en su query una conversión (_casteing_) de valores utilizando la función `CAST`: `SELECT CAST (COUNT(*) AS float)` o bien un cast implícito derivado de una operación: `COUNT(*) * 1.0`.\n"
   ]
  },
  {
   "cell_type": "code",
   "execution_count": null,
   "metadata": {},
   "outputs": [],
   "source": []
  },
  {
   "cell_type": "markdown",
   "metadata": {},
   "source": [
    "_Respuesta: La proporción de aerolineas que se retrasan más de 10 minutos en promedio representa el 40% de las aerolineas que operan vuelos_"
   ]
  },
  {
   "cell_type": "code",
   "execution_count": null,
   "metadata": {},
   "outputs": [],
   "source": []
  },
  {
   "cell_type": "markdown",
   "metadata": {},
   "source": [
    "#### Pregunta 6: ¿Cómo se relacionan los retrasos en el tiempo de salida (departure) con los retrasos en el tiempo de llegada (arrival)? (30 puntos)\n",
    "\n",
    "Si un vuelo se retrasa al salir, nos interesa estudiar qué tanto afecta esto al tiempo de llegada.\n",
    "\n",
    "Una forma de estudiar la variación conjunta de dos variables es utilizar la _covarianza muestral_.\n",
    "\n",
    "(Sí, por favor refrésquelo: https://www.google.com/search?q=covarianza+muestral)\n",
    "\n",
    "Mientras más alto sea el valor de la covarianza muestral entre dos variables, mayor será la tendencia de estas a comportarse de la misma forma. Por el contrario, una covarianza negativa indica que las variables tienden a estar inversamente relacionadas.\n",
    "\n",
    "Una forma de computar la covarianza es como sigue:\n",
    "\n",
    "\\begin{equation}\n",
    "    Cov (X, Y) = \\dfrac{1}{n-1}\\sum_{i=1}^{n}(x_i - \\overline{x})(y_i - \\overline{y})\n",
    "\\end{equation}\n",
    "\n",
    "En donde $x_i$ denota la $i$ muestra de la variable $X$, $y_i$ la muestra $i$ de la variable $Y$; mientras que  las medias de $X$ y $Y$ son denotadas por $\\overline{x}$ y $\\overline{y}$ respectivamente.\n",
    "\n",
    "El objetivo de este ejercicio es construir un query que compute la covarianza entre el retraso en el tiempo de salida (`ontime.DepDelay`) y el retraso en el tiempo de llegada (`ontime.ArrDelay`). Para eso trabaje los siguientes incisos:\n",
    "\n",
    "Nota: recuerde que puede utilizar `%%sql` en Jupyter Notebook para escribir queries utilizando múltiples líneas."
   ]
  },
  {
   "cell_type": "markdown",
   "metadata": {},
   "source": [
    "##### 6.a\n",
    "\n",
    "Escriba un query para computar el término $1/(n-1)$ de la tabla de vuelos, en donde $n$ representa la cantidad de vuelos disponibles:"
   ]
  },
  {
   "cell_type": "code",
   "execution_count": null,
   "metadata": {},
   "outputs": [],
   "source": []
  },
  {
   "cell_type": "markdown",
   "metadata": {},
   "source": [
    "_Respuesta:_ Su query debería retornar el valor `1.42658908114e-07`"
   ]
  },
  {
   "cell_type": "markdown",
   "metadata": {},
   "source": [
    "##### 6.b\n",
    "\n",
    "Escriba un query para que devuelva la siguiente el producto $(x_i - \\overline{x})(y_i - \\overline{y})$ para los primeros 10 registros de la tabla de vuelos:"
   ]
  },
  {
   "cell_type": "code",
   "execution_count": null,
   "metadata": {},
   "outputs": [],
   "source": []
  },
  {
   "cell_type": "markdown",
   "metadata": {},
   "source": [
    "#### 6.c\n",
    "\n",
    "Escriba un query que utilice la consulta anterior compute la suma de los $n$ registros de la tabla de vuelos, es decir el término\n",
    "\n",
    "\\begin{equation}\n",
    "    \\sum_{i=1}^{n}(x_i - \\overline{x})(y_i - \\overline{y})\n",
    "\\end{equation}"
   ]
  },
  {
   "cell_type": "code",
   "execution_count": null,
   "metadata": {},
   "outputs": [],
   "source": []
  },
  {
   "cell_type": "markdown",
   "metadata": {},
   "source": [
    "##### 6.d\n",
    "\n",
    "Escriba un query que utilizando las consultas de los incisos (a) y (c) para computar la covarianza."
   ]
  },
  {
   "cell_type": "code",
   "execution_count": null,
   "metadata": {},
   "outputs": [],
   "source": []
  },
  {
   "cell_type": "markdown",
   "metadata": {},
   "source": [
    "_Respuesta: La covarianza entre el tiempo de salida y el tiempo de llegada en los vuelos del dataset es de 1,235.72_"
   ]
  }
 ],
 "metadata": {
  "kernelspec": {
   "display_name": "Python 3",
   "language": "python",
   "name": "python3"
  },
  "language_info": {
   "codemirror_mode": {
    "name": "ipython",
    "version": 3
   },
   "file_extension": ".py",
   "mimetype": "text/x-python",
   "name": "python",
   "nbconvert_exporter": "python",
   "pygments_lexer": "ipython3",
   "version": "3.7.1"
  }
 },
 "nbformat": 4,
 "nbformat_minor": 2
}
